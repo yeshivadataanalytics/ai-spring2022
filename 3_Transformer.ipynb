{
  "cells": [
    {
      "cell_type": "markdown",
      "metadata": {
        "id": "view-in-github",
        "colab_type": "text"
      },
      "source": [
        "<a href=\"https://colab.research.google.com/github/yeshivadataanalytics/predict-alzheimers/blob/zeyu/3_Transformer.ipynb\" target=\"_parent\"><img src=\"https://colab.research.google.com/assets/colab-badge.svg\" alt=\"Open In Colab\"/></a>"
      ]
    },
    {
      "cell_type": "code",
      "execution_count": 20,
      "id": "48c584b5-ba4d-4274-8c21-28b7b14a1259",
      "metadata": {
        "id": "48c584b5-ba4d-4274-8c21-28b7b14a1259",
        "colab": {
          "base_uri": "https://localhost:8080/"
        },
        "outputId": "5a7eba6b-c861-48c3-9350-86446b195371"
      },
      "outputs": [
        {
          "output_type": "stream",
          "name": "stdout",
          "text": [
            "Requirement already satisfied: tensorflow-addons in /usr/local/lib/python3.7/dist-packages (0.16.1)\n",
            "Requirement already satisfied: typeguard>=2.7 in /usr/local/lib/python3.7/dist-packages (from tensorflow-addons) (2.7.1)\n"
          ]
        }
      ],
      "source": [
        "!pip install -U tensorflow-addons"
      ]
    },
    {
      "cell_type": "code",
      "execution_count": 21,
      "id": "f4fdb475-1e58-4910-ae1c-3b08b824a79f",
      "metadata": {
        "id": "f4fdb475-1e58-4910-ae1c-3b08b824a79f"
      },
      "outputs": [],
      "source": [
        "import numpy as np\n",
        "import tensorflow as tf\n",
        "from tensorflow import keras\n",
        "from tensorflow.keras import layers\n",
        "import tensorflow_addons as tfa\n",
        "from os import listdir\n",
        "from os.path import isfile, join"
      ]
    },
    {
      "cell_type": "code",
      "execution_count": 22,
      "id": "688ed349-f68e-40b4-9049-af0cbe21c4fe",
      "metadata": {
        "id": "688ed349-f68e-40b4-9049-af0cbe21c4fe"
      },
      "outputs": [],
      "source": [
        "learning_rate = 0.001\n",
        "weight_decay = 0.0001\n",
        "batch_size = 540\n",
        "num_epochs = 100\n",
        "image_size = 80  # We'll resize input images to this size\n",
        "patch_size = 10  # Size of the patches to be extract from the input images\n",
        "num_patches = (image_size // patch_size) ** 2\n",
        "projection_dim = 64\n",
        "num_heads = 4\n",
        "transformer_units = [\n",
        "    projection_dim * 2,\n",
        "    projection_dim,\n",
        "]  # Size of the transformer layers\n",
        "transformer_layers = 8\n",
        "mlp_head_units = [2048, 1024]  # Size of the dense layers of the final classifier"
      ]
    },
    {
      "cell_type": "code",
      "source": [
        "from google.colab import drive\n",
        "drive.mount('/content/gdrive')"
      ],
      "metadata": {
        "id": "EXpvpNiLaDNq",
        "colab": {
          "base_uri": "https://localhost:8080/"
        },
        "outputId": "0b0fb671-f418-44c2-be99-5d2432f57059"
      },
      "id": "EXpvpNiLaDNq",
      "execution_count": 23,
      "outputs": [
        {
          "output_type": "stream",
          "name": "stdout",
          "text": [
            "Drive already mounted at /content/gdrive; to attempt to forcibly remount, call drive.mount(\"/content/gdrive\", force_remount=True).\n"
          ]
        }
      ]
    },
    {
      "cell_type": "code",
      "execution_count": 24,
      "id": "4374a147-c17d-4925-bc1f-9fa2c249fbb5",
      "metadata": {
        "id": "4374a147-c17d-4925-bc1f-9fa2c249fbb5"
      },
      "outputs": [],
      "source": [
        "train_AD = [f for f in listdir('/content/gdrive/MyDrive/capstone/image_transformer/train/AD/') if isfile(join('/content/gdrive/MyDrive/capstone/image_transformer/train/AD/', f))]\n",
        "train_MCI = [f for f in listdir('/content/gdrive/MyDrive/capstone/image_transformer/train/MCI/') if isfile(join('/content/gdrive/MyDrive/capstone/image_transformer/train/MCI/', f))]\n",
        "test_AD = [f for f in listdir('/content/gdrive/MyDrive/capstone/image_transformer/val/AD/') if isfile(join('/content/gdrive/MyDrive/capstone/image_transformer/val/AD/', f))]\n",
        "test_MCI = [f for f in listdir('/content/gdrive/MyDrive/capstone/image_transformer/val/MCI/') if isfile(join('/content/gdrive/MyDrive/capstone/image_transformer/val/MCI/', f))]"
      ]
    },
    {
      "cell_type": "code",
      "execution_count": 25,
      "id": "50dcada5-d596-4185-985a-28b1b285ad17",
      "metadata": {
        "id": "50dcada5-d596-4185-985a-28b1b285ad17"
      },
      "outputs": [],
      "source": [
        "from PIL import Image\n",
        "import numpy as np"
      ]
    },
    {
      "cell_type": "code",
      "execution_count": 26,
      "id": "a498f02e-8eb7-429c-b1df-ca2aa566fdd8",
      "metadata": {
        "id": "a498f02e-8eb7-429c-b1df-ca2aa566fdd8"
      },
      "outputs": [],
      "source": [
        "num_classes = 2\n",
        "input_shape = (200, 200, 4)"
      ]
    },
    {
      "cell_type": "code",
      "execution_count": 27,
      "id": "5b32ad1b-70c8-4458-873c-71e7b5767cc7",
      "metadata": {
        "id": "5b32ad1b-70c8-4458-873c-71e7b5767cc7"
      },
      "outputs": [],
      "source": [
        "x_train = []\n",
        "y_train = []"
      ]
    },
    {
      "cell_type": "code",
      "execution_count": 28,
      "id": "12b3196b-1200-4cb5-ac03-659741c386d3",
      "metadata": {
        "id": "12b3196b-1200-4cb5-ac03-659741c386d3"
      },
      "outputs": [],
      "source": [
        "for i in train_AD:\n",
        "    imag1 = np.asarray(Image.open('/content/gdrive/MyDrive/capstone/image_transformer/'+'/train/AD/'+i))\n",
        "    x_train.append(imag1)\n",
        "    y_train.append(1)"
      ]
    },
    {
      "cell_type": "code",
      "execution_count": 29,
      "id": "426bb8c5-97ca-4cfc-9cfa-3187f54c2274",
      "metadata": {
        "id": "426bb8c5-97ca-4cfc-9cfa-3187f54c2274"
      },
      "outputs": [],
      "source": [
        "for i in train_MCI:\n",
        "    imag1 = np.asarray(Image.open('/content/gdrive/MyDrive/capstone/image_transformer/'+'/train/MCI/'+i))\n",
        "    x_train.append(imag1)\n",
        "    y_train.append(0)"
      ]
    },
    {
      "cell_type": "code",
      "execution_count": 30,
      "id": "8d69061d-4669-4980-9446-3f4cc7752a9b",
      "metadata": {
        "id": "8d69061d-4669-4980-9446-3f4cc7752a9b"
      },
      "outputs": [],
      "source": [
        "x_train = np.array(x_train)\n",
        "y_train = np.array(y_train)"
      ]
    },
    {
      "cell_type": "code",
      "execution_count": 31,
      "id": "cf259fcf-2e68-48e2-b0ad-1ebf279e1ca6",
      "metadata": {
        "id": "cf259fcf-2e68-48e2-b0ad-1ebf279e1ca6"
      },
      "outputs": [],
      "source": [
        "x_test = []\n",
        "y_test = []"
      ]
    },
    {
      "cell_type": "code",
      "execution_count": 32,
      "id": "44d54a92-44ee-4d48-a0a7-8bb4ef1c00d6",
      "metadata": {
        "id": "44d54a92-44ee-4d48-a0a7-8bb4ef1c00d6"
      },
      "outputs": [],
      "source": [
        "for i in test_AD:\n",
        "    imag1 = np.asarray(Image.open('/content/gdrive/MyDrive/capstone/image_transformer/'+'/val/AD/'+i))\n",
        "    x_test.append(imag1)\n",
        "    y_test.append(1)"
      ]
    },
    {
      "cell_type": "code",
      "execution_count": 33,
      "id": "9770ba48-4a67-4650-b574-0074e457b70c",
      "metadata": {
        "id": "9770ba48-4a67-4650-b574-0074e457b70c"
      },
      "outputs": [],
      "source": [
        "for i in test_MCI:\n",
        "    imag1 = np.asarray(Image.open('/content/gdrive/MyDrive/capstone/image_transformer/'+'/val/MCI/'+i))\n",
        "    x_test.append(imag1)\n",
        "    y_test.append(0)"
      ]
    },
    {
      "cell_type": "code",
      "execution_count": 34,
      "id": "2806235c-ef56-4fef-a4e6-14a317050f82",
      "metadata": {
        "id": "2806235c-ef56-4fef-a4e6-14a317050f82"
      },
      "outputs": [],
      "source": [
        "x_test = np.array(x_test)\n",
        "y_test = np.array(y_test)"
      ]
    },
    {
      "cell_type": "code",
      "execution_count": 35,
      "id": "e8f17a9f-77ca-4e28-9996-3ddbf48182a4",
      "metadata": {
        "id": "e8f17a9f-77ca-4e28-9996-3ddbf48182a4"
      },
      "outputs": [],
      "source": [
        "data_augmentation = keras.Sequential(\n",
        "    [\n",
        "        layers.Normalization(),\n",
        "        layers.Resizing(image_size, image_size),\n",
        "        layers.RandomFlip(\"horizontal\"),\n",
        "        layers.RandomRotation(factor=0.02),\n",
        "        layers.RandomZoom(\n",
        "            height_factor=0.2, width_factor=0.2\n",
        "        ),\n",
        "    ],\n",
        "    name=\"data_augmentation\",\n",
        ")\n",
        "# Compute the mean and the variance of the training data for normalization.\n",
        "data_augmentation.layers[0].adapt(x_train)"
      ]
    },
    {
      "cell_type": "code",
      "execution_count": 36,
      "id": "66b885e1-f968-4c09-a703-5104f2621f86",
      "metadata": {
        "id": "66b885e1-f968-4c09-a703-5104f2621f86"
      },
      "outputs": [],
      "source": [
        "def mlp(x, hidden_units, dropout_rate):\n",
        "    for units in hidden_units:\n",
        "        x = layers.Dense(units, activation=tf.nn.gelu)(x)\n",
        "        x = layers.Dropout(dropout_rate)(x)\n",
        "    return x"
      ]
    },
    {
      "cell_type": "code",
      "execution_count": 37,
      "id": "2333812e-50a8-42ea-8d02-67053cfaec86",
      "metadata": {
        "id": "2333812e-50a8-42ea-8d02-67053cfaec86"
      },
      "outputs": [],
      "source": [
        "class Patches(layers.Layer):\n",
        "    def __init__(self, patch_size):\n",
        "        super(Patches, self).__init__()\n",
        "        self.patch_size = patch_size\n",
        "\n",
        "    def call(self, images):\n",
        "        batch_size = tf.shape(images)[0]\n",
        "        patches = tf.image.extract_patches(\n",
        "            images=images,\n",
        "            sizes=[1, self.patch_size, self.patch_size, 1],\n",
        "            strides=[1, self.patch_size, self.patch_size, 1],\n",
        "            rates=[1, 1, 1, 1],\n",
        "            padding=\"VALID\",\n",
        "        )\n",
        "        patch_dims = patches.shape[-1]\n",
        "        patches = tf.reshape(patches, [batch_size, -1, patch_dims])\n",
        "        return patches"
      ]
    },
    {
      "cell_type": "code",
      "execution_count": 38,
      "id": "d26d350c-fc60-42bb-b94a-da87d365430c",
      "metadata": {
        "id": "d26d350c-fc60-42bb-b94a-da87d365430c",
        "colab": {
          "base_uri": "https://localhost:8080/",
          "height": 550
        },
        "outputId": "19c27b3e-cdd8-49fe-9863-8ba448a42c8a"
      },
      "outputs": [
        {
          "output_type": "stream",
          "name": "stdout",
          "text": [
            "Image size: 80 X 80\n",
            "Patch size: 10 X 10\n",
            "Patches per image: 64\n",
            "Elements per patch: 400\n"
          ]
        },
        {
          "output_type": "display_data",
          "data": {
            "text/plain": [
              "<Figure size 288x288 with 1 Axes>"
            ],
            "image/png": "[encoded data removed]"
          },
          "metadata": {
            "needs_background": "light"
          }
        },
        {
          "output_type": "display_data",
          "data": {
            "text/plain": [
              "<Figure size 288x288 with 64 Axes>"
            ],
            "image/png": "[encoded data removed]"
          },
          "metadata": {
            "needs_background": "light"
          }
        }
      ],
      "source": [
        "import matplotlib.pyplot as plt\n",
        "\n",
        "plt.figure(figsize=(4, 4))\n",
        "image = x_train[np.random.choice(range(x_train.shape[0]))]\n",
        "plt.imshow(image.astype(\"uint8\"))\n",
        "plt.axis(\"off\")\n",
        "\n",
        "resized_image = tf.image.resize(\n",
        "    tf.convert_to_tensor([image]), size=(image_size, image_size)\n",
        ")\n",
        "patches = Patches(patch_size)(resized_image)\n",
        "print(f\"Image size: {image_size} X {image_size}\")\n",
        "print(f\"Patch size: {patch_size} X {patch_size}\")\n",
        "print(f\"Patches per image: {patches.shape[1]}\")\n",
        "print(f\"Elements per patch: {patches.shape[-1]}\")\n",
        "\n",
        "n = int(np.sqrt(patches.shape[1]))\n",
        "plt.figure(figsize=(4, 4))\n",
        "for i, patch in enumerate(patches[0]):\n",
        "    ax = plt.subplot(n, n, i + 1)\n",
        "    patch_img = tf.reshape(patch[0:300], (patch_size, patch_size, 3))\n",
        "    plt.imshow(patch_img.numpy().astype(\"uint8\"))\n",
        "    plt.axis(\"off\")"
      ]
    },
    {
      "cell_type": "code",
      "execution_count": 39,
      "id": "22aa6a9c-84e2-472f-9285-a5017c8a2b30",
      "metadata": {
        "id": "22aa6a9c-84e2-472f-9285-a5017c8a2b30"
      },
      "outputs": [],
      "source": [
        "class PatchEncoder(layers.Layer):\n",
        "    def __init__(self, num_patches, projection_dim):\n",
        "        super(PatchEncoder, self).__init__()\n",
        "        self.num_patches = num_patches\n",
        "        self.projection = layers.Dense(units=projection_dim)\n",
        "        self.position_embedding = layers.Embedding(\n",
        "            input_dim=num_patches, output_dim=projection_dim\n",
        "        )\n",
        "\n",
        "    def call(self, patch):\n",
        "        positions = tf.range(start=0, limit=self.num_patches, delta=1)\n",
        "        encoded = self.projection(patch) + self.position_embedding(positions)\n",
        "        return encoded"
      ]
    },
    {
      "cell_type": "code",
      "execution_count": 40,
      "id": "191085d9-00ae-451a-a77a-e0cac44df427",
      "metadata": {
        "id": "191085d9-00ae-451a-a77a-e0cac44df427"
      },
      "outputs": [],
      "source": [
        "def create_vit_classifier():\n",
        "    inputs = layers.Input(shape=input_shape)\n",
        "    # Augment data.\n",
        "    augmented = data_augmentation(inputs)\n",
        "    # Create patches.\n",
        "    patches = Patches(patch_size)(augmented)\n",
        "    # Encode patches.\n",
        "    encoded_patches = PatchEncoder(num_patches, projection_dim)(patches)\n",
        "\n",
        "    # Create multiple layers of the Transformer block.\n",
        "    for _ in range(transformer_layers):\n",
        "        # Layer normalization 1.\n",
        "        x1 = layers.LayerNormalization(epsilon=1e-6)(encoded_patches)\n",
        "        # Create a multi-head attention layer.\n",
        "        attention_output = layers.MultiHeadAttention(\n",
        "            num_heads=num_heads, key_dim=projection_dim, dropout=0.1\n",
        "        )(x1, x1)\n",
        "        # Skip connection 1.\n",
        "        x2 = layers.Add()([attention_output, encoded_patches])\n",
        "        # Layer normalization 2.\n",
        "        x3 = layers.LayerNormalization(epsilon=1e-6)(x2)\n",
        "        # MLP.\n",
        "        x3 = mlp(x3, hidden_units=transformer_units, dropout_rate=0.1)\n",
        "        # Skip connection 2.\n",
        "        encoded_patches = layers.Add()([x3, x2])\n",
        "\n",
        "    # Create a [batch_size, projection_dim] tensor.\n",
        "    representation = layers.LayerNormalization(epsilon=1e-6)(encoded_patches)\n",
        "    representation = layers.Flatten()(representation)\n",
        "    representation = layers.Dropout(0.5)(representation)\n",
        "    # Add MLP.\n",
        "    features = mlp(representation, hidden_units=mlp_head_units, dropout_rate=0.5)\n",
        "    # Classify outputs.\n",
        "    logits = layers.Dense(num_classes)(features)\n",
        "    # Create the Keras model.\n",
        "    model = keras.Model(inputs=inputs, outputs=logits)\n",
        "    return model"
      ]
    },
    {
      "cell_type": "code",
      "source": [
        "model = create_vit_classifier()\n",
        "optimizer = tfa.optimizers.AdamW(\n",
        "        learning_rate=learning_rate, weight_decay=weight_decay\n",
        "    )\n",
        "model.compile(\n",
        "        optimizer=optimizer,\n",
        "        loss=keras.losses.SparseCategoricalCrossentropy(from_logits=True),\n",
        "        metrics=[\n",
        "            keras.metrics.SparseCategoricalAccuracy(name=\"accuracy\"),\n",
        "            keras.metrics.SparseTopKCategoricalAccuracy(5, name=\"top-5-accuracy\"),\n",
        "        ],\n",
        "    )"
      ],
      "metadata": {
        "id": "pcOBz9A5xAXM"
      },
      "id": "pcOBz9A5xAXM",
      "execution_count": 41,
      "outputs": []
    },
    {
      "cell_type": "code",
      "source": [
        "checkpoint_filepath = \"/content/gdrive/MyDrive/capstone/tmp/checkpoint\"\n",
        "checkpoint_callback = keras.callbacks.ModelCheckpoint(\n",
        "        checkpoint_filepath,\n",
        "        monitor=\"val_accuracy\",\n",
        "        save_best_only=True,\n",
        "        save_weights_only=True,\n",
        "    )"
      ],
      "metadata": {
        "id": "2hj_ev7ClPvc"
      },
      "id": "2hj_ev7ClPvc",
      "execution_count": 42,
      "outputs": []
    },
    {
      "cell_type": "code",
      "source": [
        "history = model.fit(\n",
        "        x=x_train,\n",
        "        y=y_train,\n",
        "        batch_size=batch_size,\n",
        "        epochs=200,\n",
        "        validation_split=0.1,\n",
        "        callbacks=[checkpoint_callback],\n",
        "    )"
      ],
      "metadata": {
        "colab": {
          "base_uri": "https://localhost:8080/"
        },
        "id": "0WpMjfF7lUrO",
        "outputId": "5544cc8b-2bd4-4f4c-9bb1-33ce7fc214f9"
      },
      "id": "0WpMjfF7lUrO",
      "execution_count": 73,
      "outputs": [
        {
          "output_type": "stream",
          "name": "stdout",
          "text": [
            "Epoch 1/200\n",
            "1/1 [==============================] - 15s 15s/step - loss: 0.1412 - accuracy: 0.9474 - top-5-accuracy: 1.0000 - val_loss: 1.6400 - val_accuracy: 0.5636 - val_top-5-accuracy: 1.0000\n",
            "Epoch 2/200\n",
            "1/1 [==============================] - 13s 13s/step - loss: 0.1811 - accuracy: 0.9271 - top-5-accuracy: 1.0000 - val_loss: 1.5196 - val_accuracy: 0.5818 - val_top-5-accuracy: 1.0000\n",
            "Epoch 3/200\n",
            "1/1 [==============================] - 13s 13s/step - loss: 0.1332 - accuracy: 0.9413 - top-5-accuracy: 1.0000 - val_loss: 1.4735 - val_accuracy: 0.6000 - val_top-5-accuracy: 1.0000\n",
            "Epoch 4/200\n",
            "1/1 [==============================] - 13s 13s/step - loss: 0.1216 - accuracy: 0.9413 - top-5-accuracy: 1.0000 - val_loss: 1.4904 - val_accuracy: 0.5636 - val_top-5-accuracy: 1.0000\n",
            "Epoch 5/200\n",
            "1/1 [==============================] - 13s 13s/step - loss: 0.1419 - accuracy: 0.9332 - top-5-accuracy: 1.0000 - val_loss: 1.5187 - val_accuracy: 0.5636 - val_top-5-accuracy: 1.0000\n",
            "Epoch 6/200\n",
            "1/1 [==============================] - 13s 13s/step - loss: 0.1466 - accuracy: 0.9453 - top-5-accuracy: 1.0000 - val_loss: 1.4430 - val_accuracy: 0.5818 - val_top-5-accuracy: 1.0000\n",
            "Epoch 7/200\n",
            "1/1 [==============================] - 13s 13s/step - loss: 0.1245 - accuracy: 0.9555 - top-5-accuracy: 1.0000 - val_loss: 1.4538 - val_accuracy: 0.6000 - val_top-5-accuracy: 1.0000\n",
            "Epoch 8/200\n",
            "1/1 [==============================] - 13s 13s/step - loss: 0.1315 - accuracy: 0.9453 - top-5-accuracy: 1.0000 - val_loss: 1.5256 - val_accuracy: 0.5818 - val_top-5-accuracy: 1.0000\n",
            "Epoch 9/200\n",
            "1/1 [==============================] - 13s 13s/step - loss: 0.1034 - accuracy: 0.9555 - top-5-accuracy: 1.0000 - val_loss: 1.6304 - val_accuracy: 0.5636 - val_top-5-accuracy: 1.0000\n",
            "Epoch 10/200\n",
            "1/1 [==============================] - 13s 13s/step - loss: 0.1132 - accuracy: 0.9514 - top-5-accuracy: 1.0000 - val_loss: 1.7783 - val_accuracy: 0.5455 - val_top-5-accuracy: 1.0000\n",
            "Epoch 11/200\n",
            "1/1 [==============================] - 13s 13s/step - loss: 0.1288 - accuracy: 0.9474 - top-5-accuracy: 1.0000 - val_loss: 1.8405 - val_accuracy: 0.5455 - val_top-5-accuracy: 1.0000\n",
            "Epoch 12/200\n",
            "1/1 [==============================] - 13s 13s/step - loss: 0.1035 - accuracy: 0.9656 - top-5-accuracy: 1.0000 - val_loss: 1.7710 - val_accuracy: 0.5455 - val_top-5-accuracy: 1.0000\n",
            "Epoch 13/200\n",
            "1/1 [==============================] - 13s 13s/step - loss: 0.1222 - accuracy: 0.9433 - top-5-accuracy: 1.0000 - val_loss: 1.7879 - val_accuracy: 0.5455 - val_top-5-accuracy: 1.0000\n",
            "Epoch 14/200\n",
            "1/1 [==============================] - 13s 13s/step - loss: 0.1182 - accuracy: 0.9514 - top-5-accuracy: 1.0000 - val_loss: 1.7597 - val_accuracy: 0.5636 - val_top-5-accuracy: 1.0000\n",
            "Epoch 15/200\n",
            "1/1 [==============================] - 13s 13s/step - loss: 0.1534 - accuracy: 0.9271 - top-5-accuracy: 1.0000 - val_loss: 1.7719 - val_accuracy: 0.5636 - val_top-5-accuracy: 1.0000\n",
            "Epoch 16/200\n",
            "1/1 [==============================] - 13s 13s/step - loss: 0.1358 - accuracy: 0.9453 - top-5-accuracy: 1.0000 - val_loss: 1.8368 - val_accuracy: 0.5455 - val_top-5-accuracy: 1.0000\n",
            "Epoch 17/200\n",
            "1/1 [==============================] - 13s 13s/step - loss: 0.1324 - accuracy: 0.9413 - top-5-accuracy: 1.0000 - val_loss: 1.9064 - val_accuracy: 0.5455 - val_top-5-accuracy: 1.0000\n",
            "Epoch 18/200\n",
            "1/1 [==============================] - 13s 13s/step - loss: 0.1395 - accuracy: 0.9494 - top-5-accuracy: 1.0000 - val_loss: 1.8957 - val_accuracy: 0.5455 - val_top-5-accuracy: 1.0000\n",
            "Epoch 19/200\n",
            "1/1 [==============================] - 13s 13s/step - loss: 0.1073 - accuracy: 0.9595 - top-5-accuracy: 1.0000 - val_loss: 1.8909 - val_accuracy: 0.5455 - val_top-5-accuracy: 1.0000\n",
            "Epoch 20/200\n",
            "1/1 [==============================] - 13s 13s/step - loss: 0.1310 - accuracy: 0.9453 - top-5-accuracy: 1.0000 - val_loss: 1.8416 - val_accuracy: 0.6000 - val_top-5-accuracy: 1.0000\n",
            "Epoch 21/200\n",
            "1/1 [==============================] - 13s 13s/step - loss: 0.1356 - accuracy: 0.9433 - top-5-accuracy: 1.0000 - val_loss: 1.7841 - val_accuracy: 0.5818 - val_top-5-accuracy: 1.0000\n",
            "Epoch 22/200\n",
            "1/1 [==============================] - 13s 13s/step - loss: 0.1386 - accuracy: 0.9534 - top-5-accuracy: 1.0000 - val_loss: 1.8278 - val_accuracy: 0.5818 - val_top-5-accuracy: 1.0000\n",
            "Epoch 23/200\n",
            "1/1 [==============================] - 13s 13s/step - loss: 0.1244 - accuracy: 0.9413 - top-5-accuracy: 1.0000 - val_loss: 1.9071 - val_accuracy: 0.5455 - val_top-5-accuracy: 1.0000\n",
            "Epoch 24/200\n",
            "1/1 [==============================] - 13s 13s/step - loss: 0.1209 - accuracy: 0.9555 - top-5-accuracy: 1.0000 - val_loss: 1.9055 - val_accuracy: 0.5091 - val_top-5-accuracy: 1.0000\n",
            "Epoch 25/200\n",
            "1/1 [==============================] - 13s 13s/step - loss: 0.1133 - accuracy: 0.9595 - top-5-accuracy: 1.0000 - val_loss: 1.8945 - val_accuracy: 0.5273 - val_top-5-accuracy: 1.0000\n",
            "Epoch 26/200\n",
            "1/1 [==============================] - 13s 13s/step - loss: 0.0935 - accuracy: 0.9595 - top-5-accuracy: 1.0000 - val_loss: 1.7943 - val_accuracy: 0.5818 - val_top-5-accuracy: 1.0000\n",
            "Epoch 27/200\n",
            "1/1 [==============================] - 13s 13s/step - loss: 0.1441 - accuracy: 0.9474 - top-5-accuracy: 1.0000 - val_loss: 1.8552 - val_accuracy: 0.5818 - val_top-5-accuracy: 1.0000\n",
            "Epoch 28/200\n",
            "1/1 [==============================] - 13s 13s/step - loss: 0.1784 - accuracy: 0.9372 - top-5-accuracy: 1.0000 - val_loss: 2.0447 - val_accuracy: 0.5091 - val_top-5-accuracy: 1.0000\n",
            "Epoch 29/200\n",
            "1/1 [==============================] - 13s 13s/step - loss: 0.0978 - accuracy: 0.9534 - top-5-accuracy: 1.0000 - val_loss: 2.1931 - val_accuracy: 0.5091 - val_top-5-accuracy: 1.0000\n",
            "Epoch 30/200\n",
            "1/1 [==============================] - 13s 13s/step - loss: 0.1076 - accuracy: 0.9433 - top-5-accuracy: 1.0000 - val_loss: 2.3363 - val_accuracy: 0.4545 - val_top-5-accuracy: 1.0000\n",
            "Epoch 31/200\n",
            "1/1 [==============================] - 13s 13s/step - loss: 0.1369 - accuracy: 0.9332 - top-5-accuracy: 1.0000 - val_loss: 2.3227 - val_accuracy: 0.5273 - val_top-5-accuracy: 1.0000\n",
            "Epoch 32/200\n",
            "1/1 [==============================] - 18s 18s/step - loss: 0.0975 - accuracy: 0.9636 - top-5-accuracy: 1.0000 - val_loss: 2.2563 - val_accuracy: 0.5636 - val_top-5-accuracy: 1.0000\n",
            "Epoch 33/200\n",
            "1/1 [==============================] - 14s 14s/step - loss: 0.1476 - accuracy: 0.9474 - top-5-accuracy: 1.0000 - val_loss: 2.0051 - val_accuracy: 0.5818 - val_top-5-accuracy: 1.0000\n",
            "Epoch 34/200\n",
            "1/1 [==============================] - 13s 13s/step - loss: 0.1306 - accuracy: 0.9453 - top-5-accuracy: 1.0000 - val_loss: 1.7860 - val_accuracy: 0.5818 - val_top-5-accuracy: 1.0000\n",
            "Epoch 35/200\n",
            "1/1 [==============================] - 13s 13s/step - loss: 0.1215 - accuracy: 0.9494 - top-5-accuracy: 1.0000 - val_loss: 1.6881 - val_accuracy: 0.5818 - val_top-5-accuracy: 1.0000\n",
            "Epoch 36/200\n",
            "1/1 [==============================] - 13s 13s/step - loss: 0.1600 - accuracy: 0.9312 - top-5-accuracy: 1.0000 - val_loss: 1.7915 - val_accuracy: 0.5636 - val_top-5-accuracy: 1.0000\n",
            "Epoch 37/200\n",
            "1/1 [==============================] - 13s 13s/step - loss: 0.1112 - accuracy: 0.9555 - top-5-accuracy: 1.0000 - val_loss: 1.9216 - val_accuracy: 0.5455 - val_top-5-accuracy: 1.0000\n",
            "Epoch 38/200\n",
            "1/1 [==============================] - 13s 13s/step - loss: 0.1028 - accuracy: 0.9575 - top-5-accuracy: 1.0000 - val_loss: 1.8778 - val_accuracy: 0.5455 - val_top-5-accuracy: 1.0000\n",
            "Epoch 39/200\n",
            "1/1 [==============================] - 13s 13s/step - loss: 0.1210 - accuracy: 0.9636 - top-5-accuracy: 1.0000 - val_loss: 1.7477 - val_accuracy: 0.5455 - val_top-5-accuracy: 1.0000\n",
            "Epoch 40/200\n",
            "1/1 [==============================] - 13s 13s/step - loss: 0.1321 - accuracy: 0.9433 - top-5-accuracy: 1.0000 - val_loss: 1.5850 - val_accuracy: 0.5818 - val_top-5-accuracy: 1.0000\n",
            "Epoch 41/200\n",
            "1/1 [==============================] - 13s 13s/step - loss: 0.1305 - accuracy: 0.9494 - top-5-accuracy: 1.0000 - val_loss: 1.4522 - val_accuracy: 0.5818 - val_top-5-accuracy: 1.0000\n",
            "Epoch 42/200\n",
            "1/1 [==============================] - 13s 13s/step - loss: 0.1260 - accuracy: 0.9413 - top-5-accuracy: 1.0000 - val_loss: 1.4827 - val_accuracy: 0.6182 - val_top-5-accuracy: 1.0000\n",
            "Epoch 43/200\n",
            "1/1 [==============================] - 13s 13s/step - loss: 0.1137 - accuracy: 0.9595 - top-5-accuracy: 1.0000 - val_loss: 1.5766 - val_accuracy: 0.5636 - val_top-5-accuracy: 1.0000\n",
            "Epoch 44/200\n",
            "1/1 [==============================] - 13s 13s/step - loss: 0.1055 - accuracy: 0.9636 - top-5-accuracy: 1.0000 - val_loss: 1.6707 - val_accuracy: 0.5455 - val_top-5-accuracy: 1.0000\n",
            "Epoch 45/200\n",
            "1/1 [==============================] - 13s 13s/step - loss: 0.1394 - accuracy: 0.9453 - top-5-accuracy: 1.0000 - val_loss: 1.7997 - val_accuracy: 0.5636 - val_top-5-accuracy: 1.0000\n",
            "Epoch 46/200\n",
            "1/1 [==============================] - 13s 13s/step - loss: 0.1162 - accuracy: 0.9494 - top-5-accuracy: 1.0000 - val_loss: 1.8978 - val_accuracy: 0.5455 - val_top-5-accuracy: 1.0000\n",
            "Epoch 47/200\n",
            "1/1 [==============================] - 13s 13s/step - loss: 0.1180 - accuracy: 0.9575 - top-5-accuracy: 1.0000 - val_loss: 1.9938 - val_accuracy: 0.5091 - val_top-5-accuracy: 1.0000\n",
            "Epoch 48/200\n",
            "1/1 [==============================] - 13s 13s/step - loss: 0.1354 - accuracy: 0.9615 - top-5-accuracy: 1.0000 - val_loss: 2.0120 - val_accuracy: 0.5273 - val_top-5-accuracy: 1.0000\n",
            "Epoch 49/200\n",
            "1/1 [==============================] - 13s 13s/step - loss: 0.1281 - accuracy: 0.9413 - top-5-accuracy: 1.0000 - val_loss: 2.0960 - val_accuracy: 0.5091 - val_top-5-accuracy: 1.0000\n",
            "Epoch 50/200\n",
            "1/1 [==============================] - 12s 12s/step - loss: 0.1058 - accuracy: 0.9615 - top-5-accuracy: 1.0000 - val_loss: 1.9839 - val_accuracy: 0.5455 - val_top-5-accuracy: 1.0000\n",
            "Epoch 51/200\n",
            "1/1 [==============================] - 13s 13s/step - loss: 0.1138 - accuracy: 0.9514 - top-5-accuracy: 1.0000 - val_loss: 1.8911 - val_accuracy: 0.5455 - val_top-5-accuracy: 1.0000\n",
            "Epoch 52/200\n",
            "1/1 [==============================] - 12s 12s/step - loss: 0.1148 - accuracy: 0.9555 - top-5-accuracy: 1.0000 - val_loss: 1.7700 - val_accuracy: 0.5636 - val_top-5-accuracy: 1.0000\n",
            "Epoch 53/200\n",
            "1/1 [==============================] - 13s 13s/step - loss: 0.1110 - accuracy: 0.9534 - top-5-accuracy: 1.0000 - val_loss: 1.6108 - val_accuracy: 0.5636 - val_top-5-accuracy: 1.0000\n",
            "Epoch 54/200\n",
            "1/1 [==============================] - 13s 13s/step - loss: 0.0991 - accuracy: 0.9575 - top-5-accuracy: 1.0000 - val_loss: 1.5445 - val_accuracy: 0.6182 - val_top-5-accuracy: 1.0000\n",
            "Epoch 55/200\n",
            "1/1 [==============================] - 13s 13s/step - loss: 0.1909 - accuracy: 0.9312 - top-5-accuracy: 1.0000 - val_loss: 1.7513 - val_accuracy: 0.5636 - val_top-5-accuracy: 1.0000\n",
            "Epoch 56/200\n",
            "1/1 [==============================] - 13s 13s/step - loss: 0.1270 - accuracy: 0.9393 - top-5-accuracy: 1.0000 - val_loss: 2.0719 - val_accuracy: 0.5636 - val_top-5-accuracy: 1.0000\n",
            "Epoch 57/200\n",
            "1/1 [==============================] - 13s 13s/step - loss: 0.0962 - accuracy: 0.9514 - top-5-accuracy: 1.0000 - val_loss: 2.3378 - val_accuracy: 0.5455 - val_top-5-accuracy: 1.0000\n",
            "Epoch 58/200\n",
            "1/1 [==============================] - 13s 13s/step - loss: 0.1172 - accuracy: 0.9514 - top-5-accuracy: 1.0000 - val_loss: 2.3676 - val_accuracy: 0.5455 - val_top-5-accuracy: 1.0000\n",
            "Epoch 59/200\n",
            "1/1 [==============================] - 13s 13s/step - loss: 0.1395 - accuracy: 0.9312 - top-5-accuracy: 1.0000 - val_loss: 2.2956 - val_accuracy: 0.5636 - val_top-5-accuracy: 1.0000\n",
            "Epoch 60/200\n",
            "1/1 [==============================] - 13s 13s/step - loss: 0.1027 - accuracy: 0.9595 - top-5-accuracy: 1.0000 - val_loss: 2.2808 - val_accuracy: 0.5455 - val_top-5-accuracy: 1.0000\n",
            "Epoch 61/200\n",
            "1/1 [==============================] - 13s 13s/step - loss: 0.1022 - accuracy: 0.9615 - top-5-accuracy: 1.0000 - val_loss: 2.0636 - val_accuracy: 0.5636 - val_top-5-accuracy: 1.0000\n",
            "Epoch 62/200\n",
            "1/1 [==============================] - 13s 13s/step - loss: 0.1317 - accuracy: 0.9453 - top-5-accuracy: 1.0000 - val_loss: 1.9837 - val_accuracy: 0.5455 - val_top-5-accuracy: 1.0000\n",
            "Epoch 63/200\n",
            "1/1 [==============================] - 13s 13s/step - loss: 0.0924 - accuracy: 0.9555 - top-5-accuracy: 1.0000 - val_loss: 1.9655 - val_accuracy: 0.5636 - val_top-5-accuracy: 1.0000\n",
            "Epoch 64/200\n",
            "1/1 [==============================] - 13s 13s/step - loss: 0.1142 - accuracy: 0.9494 - top-5-accuracy: 1.0000 - val_loss: 1.8916 - val_accuracy: 0.6000 - val_top-5-accuracy: 1.0000\n",
            "Epoch 65/200\n",
            "1/1 [==============================] - 13s 13s/step - loss: 0.1028 - accuracy: 0.9717 - top-5-accuracy: 1.0000 - val_loss: 1.8660 - val_accuracy: 0.6000 - val_top-5-accuracy: 1.0000\n",
            "Epoch 66/200\n",
            "1/1 [==============================] - 13s 13s/step - loss: 0.1319 - accuracy: 0.9474 - top-5-accuracy: 1.0000 - val_loss: 1.8948 - val_accuracy: 0.6000 - val_top-5-accuracy: 1.0000\n",
            "Epoch 67/200\n",
            "1/1 [==============================] - 13s 13s/step - loss: 0.1008 - accuracy: 0.9636 - top-5-accuracy: 1.0000 - val_loss: 1.9088 - val_accuracy: 0.5818 - val_top-5-accuracy: 1.0000\n",
            "Epoch 68/200\n",
            "1/1 [==============================] - 13s 13s/step - loss: 0.0822 - accuracy: 0.9676 - top-5-accuracy: 1.0000 - val_loss: 1.9549 - val_accuracy: 0.5636 - val_top-5-accuracy: 1.0000\n",
            "Epoch 69/200\n",
            "1/1 [==============================] - 13s 13s/step - loss: 0.1315 - accuracy: 0.9433 - top-5-accuracy: 1.0000 - val_loss: 1.8774 - val_accuracy: 0.5636 - val_top-5-accuracy: 1.0000\n",
            "Epoch 70/200\n",
            "1/1 [==============================] - 13s 13s/step - loss: 0.1119 - accuracy: 0.9615 - top-5-accuracy: 1.0000 - val_loss: 1.8251 - val_accuracy: 0.5818 - val_top-5-accuracy: 1.0000\n",
            "Epoch 71/200\n",
            "1/1 [==============================] - 13s 13s/step - loss: 0.1116 - accuracy: 0.9595 - top-5-accuracy: 1.0000 - val_loss: 1.7425 - val_accuracy: 0.5818 - val_top-5-accuracy: 1.0000\n",
            "Epoch 72/200\n",
            "1/1 [==============================] - 13s 13s/step - loss: 0.1215 - accuracy: 0.9453 - top-5-accuracy: 1.0000 - val_loss: 1.8431 - val_accuracy: 0.5818 - val_top-5-accuracy: 1.0000\n",
            "Epoch 73/200\n",
            "1/1 [==============================] - 13s 13s/step - loss: 0.1156 - accuracy: 0.9595 - top-5-accuracy: 1.0000 - val_loss: 1.9576 - val_accuracy: 0.5455 - val_top-5-accuracy: 1.0000\n",
            "Epoch 74/200\n",
            "1/1 [==============================] - 12s 12s/step - loss: 0.1053 - accuracy: 0.9555 - top-5-accuracy: 1.0000 - val_loss: 2.0762 - val_accuracy: 0.5455 - val_top-5-accuracy: 1.0000\n",
            "Epoch 75/200\n",
            "1/1 [==============================] - 12s 12s/step - loss: 0.1284 - accuracy: 0.9555 - top-5-accuracy: 1.0000 - val_loss: 2.0935 - val_accuracy: 0.5636 - val_top-5-accuracy: 1.0000\n",
            "Epoch 76/200\n",
            "1/1 [==============================] - 13s 13s/step - loss: 0.1000 - accuracy: 0.9636 - top-5-accuracy: 1.0000 - val_loss: 2.0237 - val_accuracy: 0.5636 - val_top-5-accuracy: 1.0000\n",
            "Epoch 77/200\n",
            "1/1 [==============================] - 12s 12s/step - loss: 0.1068 - accuracy: 0.9615 - top-5-accuracy: 1.0000 - val_loss: 1.8297 - val_accuracy: 0.6000 - val_top-5-accuracy: 1.0000\n",
            "Epoch 78/200\n",
            "1/1 [==============================] - 12s 12s/step - loss: 0.1058 - accuracy: 0.9555 - top-5-accuracy: 1.0000 - val_loss: 1.6627 - val_accuracy: 0.6000 - val_top-5-accuracy: 1.0000\n",
            "Epoch 79/200\n",
            "1/1 [==============================] - 12s 12s/step - loss: 0.1104 - accuracy: 0.9534 - top-5-accuracy: 1.0000 - val_loss: 1.5433 - val_accuracy: 0.6364 - val_top-5-accuracy: 1.0000\n",
            "Epoch 80/200\n",
            "1/1 [==============================] - 13s 13s/step - loss: 0.1097 - accuracy: 0.9595 - top-5-accuracy: 1.0000 - val_loss: 1.5396 - val_accuracy: 0.6000 - val_top-5-accuracy: 1.0000\n",
            "Epoch 81/200\n",
            "1/1 [==============================] - 12s 12s/step - loss: 0.0988 - accuracy: 0.9636 - top-5-accuracy: 1.0000 - val_loss: 1.5699 - val_accuracy: 0.6000 - val_top-5-accuracy: 1.0000\n",
            "Epoch 82/200\n",
            "1/1 [==============================] - 13s 13s/step - loss: 0.1001 - accuracy: 0.9514 - top-5-accuracy: 1.0000 - val_loss: 1.6829 - val_accuracy: 0.6000 - val_top-5-accuracy: 1.0000\n",
            "Epoch 83/200\n",
            "1/1 [==============================] - 12s 12s/step - loss: 0.1143 - accuracy: 0.9474 - top-5-accuracy: 1.0000 - val_loss: 1.8499 - val_accuracy: 0.5818 - val_top-5-accuracy: 1.0000\n",
            "Epoch 84/200\n",
            "1/1 [==============================] - 12s 12s/step - loss: 0.1078 - accuracy: 0.9656 - top-5-accuracy: 1.0000 - val_loss: 2.0277 - val_accuracy: 0.5273 - val_top-5-accuracy: 1.0000\n",
            "Epoch 85/200\n",
            "1/1 [==============================] - 13s 13s/step - loss: 0.0935 - accuracy: 0.9656 - top-5-accuracy: 1.0000 - val_loss: 2.1263 - val_accuracy: 0.4909 - val_top-5-accuracy: 1.0000\n",
            "Epoch 86/200\n",
            "1/1 [==============================] - 13s 13s/step - loss: 0.0950 - accuracy: 0.9595 - top-5-accuracy: 1.0000 - val_loss: 2.0713 - val_accuracy: 0.5091 - val_top-5-accuracy: 1.0000\n",
            "Epoch 87/200\n",
            "1/1 [==============================] - 13s 13s/step - loss: 0.1090 - accuracy: 0.9555 - top-5-accuracy: 1.0000 - val_loss: 2.0232 - val_accuracy: 0.5455 - val_top-5-accuracy: 1.0000\n",
            "Epoch 88/200\n",
            "1/1 [==============================] - 12s 12s/step - loss: 0.1460 - accuracy: 0.9393 - top-5-accuracy: 1.0000 - val_loss: 2.0540 - val_accuracy: 0.5636 - val_top-5-accuracy: 1.0000\n",
            "Epoch 89/200\n",
            "1/1 [==============================] - 13s 13s/step - loss: 0.1133 - accuracy: 0.9615 - top-5-accuracy: 1.0000 - val_loss: 2.1530 - val_accuracy: 0.5455 - val_top-5-accuracy: 1.0000\n",
            "Epoch 90/200\n",
            "1/1 [==============================] - 13s 13s/step - loss: 0.1212 - accuracy: 0.9555 - top-5-accuracy: 1.0000 - val_loss: 2.2012 - val_accuracy: 0.4909 - val_top-5-accuracy: 1.0000\n",
            "Epoch 91/200\n",
            "1/1 [==============================] - 12s 12s/step - loss: 0.1261 - accuracy: 0.9433 - top-5-accuracy: 1.0000 - val_loss: 2.2257 - val_accuracy: 0.4909 - val_top-5-accuracy: 1.0000\n",
            "Epoch 92/200\n",
            "1/1 [==============================] - 12s 12s/step - loss: 0.1098 - accuracy: 0.9615 - top-5-accuracy: 1.0000 - val_loss: 2.1251 - val_accuracy: 0.4909 - val_top-5-accuracy: 1.0000\n",
            "Epoch 93/200\n",
            "1/1 [==============================] - 12s 12s/step - loss: 0.1122 - accuracy: 0.9514 - top-5-accuracy: 1.0000 - val_loss: 1.8956 - val_accuracy: 0.5091 - val_top-5-accuracy: 1.0000\n",
            "Epoch 94/200\n",
            "1/1 [==============================] - 13s 13s/step - loss: 0.1262 - accuracy: 0.9534 - top-5-accuracy: 1.0000 - val_loss: 1.8645 - val_accuracy: 0.5636 - val_top-5-accuracy: 1.0000\n",
            "Epoch 95/200\n",
            "1/1 [==============================] - 12s 12s/step - loss: 0.0802 - accuracy: 0.9696 - top-5-accuracy: 1.0000 - val_loss: 1.9051 - val_accuracy: 0.5636 - val_top-5-accuracy: 1.0000\n",
            "Epoch 96/200\n",
            "1/1 [==============================] - 12s 12s/step - loss: 0.1316 - accuracy: 0.9453 - top-5-accuracy: 1.0000 - val_loss: 2.0332 - val_accuracy: 0.5455 - val_top-5-accuracy: 1.0000\n",
            "Epoch 97/200\n",
            "1/1 [==============================] - 12s 12s/step - loss: 0.1312 - accuracy: 0.9494 - top-5-accuracy: 1.0000 - val_loss: 2.0767 - val_accuracy: 0.5636 - val_top-5-accuracy: 1.0000\n",
            "Epoch 98/200\n",
            "1/1 [==============================] - 12s 12s/step - loss: 0.0873 - accuracy: 0.9696 - top-5-accuracy: 1.0000 - val_loss: 2.1774 - val_accuracy: 0.5273 - val_top-5-accuracy: 1.0000\n",
            "Epoch 99/200\n",
            "1/1 [==============================] - 13s 13s/step - loss: 0.1412 - accuracy: 0.9312 - top-5-accuracy: 1.0000 - val_loss: 2.1474 - val_accuracy: 0.5091 - val_top-5-accuracy: 1.0000\n",
            "Epoch 100/200\n",
            "1/1 [==============================] - 13s 13s/step - loss: 0.1145 - accuracy: 0.9615 - top-5-accuracy: 1.0000 - val_loss: 2.1151 - val_accuracy: 0.5273 - val_top-5-accuracy: 1.0000\n",
            "Epoch 101/200\n",
            "1/1 [==============================] - 13s 13s/step - loss: 0.1387 - accuracy: 0.9433 - top-5-accuracy: 1.0000 - val_loss: 2.0174 - val_accuracy: 0.5818 - val_top-5-accuracy: 1.0000\n",
            "Epoch 102/200\n",
            "1/1 [==============================] - 13s 13s/step - loss: 0.1271 - accuracy: 0.9393 - top-5-accuracy: 1.0000 - val_loss: 1.9512 - val_accuracy: 0.6182 - val_top-5-accuracy: 1.0000\n",
            "Epoch 103/200\n",
            "1/1 [==============================] - 13s 13s/step - loss: 0.1047 - accuracy: 0.9615 - top-5-accuracy: 1.0000 - val_loss: 1.9926 - val_accuracy: 0.6364 - val_top-5-accuracy: 1.0000\n",
            "Epoch 104/200\n",
            "1/1 [==============================] - 13s 13s/step - loss: 0.1200 - accuracy: 0.9534 - top-5-accuracy: 1.0000 - val_loss: 2.0402 - val_accuracy: 0.6364 - val_top-5-accuracy: 1.0000\n",
            "Epoch 105/200\n",
            "1/1 [==============================] - 12s 12s/step - loss: 0.1024 - accuracy: 0.9595 - top-5-accuracy: 1.0000 - val_loss: 2.1804 - val_accuracy: 0.6182 - val_top-5-accuracy: 1.0000\n",
            "Epoch 106/200\n",
            "1/1 [==============================] - 12s 12s/step - loss: 0.0993 - accuracy: 0.9595 - top-5-accuracy: 1.0000 - val_loss: 2.3638 - val_accuracy: 0.4909 - val_top-5-accuracy: 1.0000\n",
            "Epoch 107/200\n",
            "1/1 [==============================] - 12s 12s/step - loss: 0.1410 - accuracy: 0.9433 - top-5-accuracy: 1.0000 - val_loss: 2.4060 - val_accuracy: 0.4727 - val_top-5-accuracy: 1.0000\n",
            "Epoch 108/200\n",
            "1/1 [==============================] - 12s 12s/step - loss: 0.1298 - accuracy: 0.9352 - top-5-accuracy: 1.0000 - val_loss: 2.1742 - val_accuracy: 0.5455 - val_top-5-accuracy: 1.0000\n",
            "Epoch 109/200\n",
            "1/1 [==============================] - 12s 12s/step - loss: 0.1164 - accuracy: 0.9595 - top-5-accuracy: 1.0000 - val_loss: 1.9486 - val_accuracy: 0.6000 - val_top-5-accuracy: 1.0000\n",
            "Epoch 110/200\n",
            "1/1 [==============================] - 12s 12s/step - loss: 0.1159 - accuracy: 0.9494 - top-5-accuracy: 1.0000 - val_loss: 1.9035 - val_accuracy: 0.6364 - val_top-5-accuracy: 1.0000\n",
            "Epoch 111/200\n",
            "1/1 [==============================] - 13s 13s/step - loss: 0.1476 - accuracy: 0.9433 - top-5-accuracy: 1.0000 - val_loss: 1.9947 - val_accuracy: 0.6182 - val_top-5-accuracy: 1.0000\n",
            "Epoch 112/200\n",
            "1/1 [==============================] - 12s 12s/step - loss: 0.1108 - accuracy: 0.9474 - top-5-accuracy: 1.0000 - val_loss: 2.1405 - val_accuracy: 0.5455 - val_top-5-accuracy: 1.0000\n",
            "Epoch 113/200\n",
            "1/1 [==============================] - 13s 13s/step - loss: 0.1033 - accuracy: 0.9615 - top-5-accuracy: 1.0000 - val_loss: 2.2251 - val_accuracy: 0.5091 - val_top-5-accuracy: 1.0000\n",
            "Epoch 114/200\n",
            "1/1 [==============================] - 13s 13s/step - loss: 0.1191 - accuracy: 0.9494 - top-5-accuracy: 1.0000 - val_loss: 2.1333 - val_accuracy: 0.5091 - val_top-5-accuracy: 1.0000\n",
            "Epoch 115/200\n",
            "1/1 [==============================] - 13s 13s/step - loss: 0.1466 - accuracy: 0.9534 - top-5-accuracy: 1.0000 - val_loss: 1.9030 - val_accuracy: 0.5818 - val_top-5-accuracy: 1.0000\n",
            "Epoch 116/200\n",
            "1/1 [==============================] - 13s 13s/step - loss: 0.1007 - accuracy: 0.9636 - top-5-accuracy: 1.0000 - val_loss: 1.7292 - val_accuracy: 0.6182 - val_top-5-accuracy: 1.0000\n",
            "Epoch 117/200\n",
            "1/1 [==============================] - 13s 13s/step - loss: 0.1140 - accuracy: 0.9534 - top-5-accuracy: 1.0000 - val_loss: 1.6174 - val_accuracy: 0.6364 - val_top-5-accuracy: 1.0000\n",
            "Epoch 118/200\n",
            "1/1 [==============================] - 12s 12s/step - loss: 0.1423 - accuracy: 0.9332 - top-5-accuracy: 1.0000 - val_loss: 1.6049 - val_accuracy: 0.6182 - val_top-5-accuracy: 1.0000\n",
            "Epoch 119/200\n",
            "1/1 [==============================] - 12s 12s/step - loss: 0.0878 - accuracy: 0.9636 - top-5-accuracy: 1.0000 - val_loss: 1.7825 - val_accuracy: 0.6000 - val_top-5-accuracy: 1.0000\n",
            "Epoch 120/200\n",
            "1/1 [==============================] - 12s 12s/step - loss: 0.0980 - accuracy: 0.9636 - top-5-accuracy: 1.0000 - val_loss: 1.9582 - val_accuracy: 0.6000 - val_top-5-accuracy: 1.0000\n",
            "Epoch 121/200\n",
            "1/1 [==============================] - 12s 12s/step - loss: 0.1020 - accuracy: 0.9595 - top-5-accuracy: 1.0000 - val_loss: 2.1376 - val_accuracy: 0.5636 - val_top-5-accuracy: 1.0000\n",
            "Epoch 122/200\n",
            "1/1 [==============================] - 12s 12s/step - loss: 0.0954 - accuracy: 0.9575 - top-5-accuracy: 1.0000 - val_loss: 2.2510 - val_accuracy: 0.5636 - val_top-5-accuracy: 1.0000\n",
            "Epoch 123/200\n",
            "1/1 [==============================] - 13s 13s/step - loss: 0.1222 - accuracy: 0.9514 - top-5-accuracy: 1.0000 - val_loss: 2.1703 - val_accuracy: 0.5636 - val_top-5-accuracy: 1.0000\n",
            "Epoch 124/200\n",
            "1/1 [==============================] - 12s 12s/step - loss: 0.0973 - accuracy: 0.9575 - top-5-accuracy: 1.0000 - val_loss: 2.1234 - val_accuracy: 0.5636 - val_top-5-accuracy: 1.0000\n",
            "Epoch 125/200\n",
            "1/1 [==============================] - 13s 13s/step - loss: 0.1290 - accuracy: 0.9494 - top-5-accuracy: 1.0000 - val_loss: 2.1330 - val_accuracy: 0.5636 - val_top-5-accuracy: 1.0000\n",
            "Epoch 126/200\n",
            "1/1 [==============================] - 12s 12s/step - loss: 0.0887 - accuracy: 0.9696 - top-5-accuracy: 1.0000 - val_loss: 2.1354 - val_accuracy: 0.6000 - val_top-5-accuracy: 1.0000\n",
            "Epoch 127/200\n",
            "1/1 [==============================] - 13s 13s/step - loss: 0.0967 - accuracy: 0.9696 - top-5-accuracy: 1.0000 - val_loss: 2.1341 - val_accuracy: 0.6000 - val_top-5-accuracy: 1.0000\n",
            "Epoch 128/200\n",
            "1/1 [==============================] - 13s 13s/step - loss: 0.1016 - accuracy: 0.9534 - top-5-accuracy: 1.0000 - val_loss: 2.1377 - val_accuracy: 0.5818 - val_top-5-accuracy: 1.0000\n",
            "Epoch 129/200\n",
            "1/1 [==============================] - 13s 13s/step - loss: 0.0955 - accuracy: 0.9575 - top-5-accuracy: 1.0000 - val_loss: 2.1007 - val_accuracy: 0.6000 - val_top-5-accuracy: 1.0000\n",
            "Epoch 130/200\n",
            "1/1 [==============================] - 12s 12s/step - loss: 0.0903 - accuracy: 0.9575 - top-5-accuracy: 1.0000 - val_loss: 2.0846 - val_accuracy: 0.6000 - val_top-5-accuracy: 1.0000\n",
            "Epoch 131/200\n",
            "1/1 [==============================] - 13s 13s/step - loss: 0.1072 - accuracy: 0.9575 - top-5-accuracy: 1.0000 - val_loss: 2.1256 - val_accuracy: 0.5636 - val_top-5-accuracy: 1.0000\n",
            "Epoch 132/200\n",
            "1/1 [==============================] - 13s 13s/step - loss: 0.0877 - accuracy: 0.9696 - top-5-accuracy: 1.0000 - val_loss: 2.1664 - val_accuracy: 0.5636 - val_top-5-accuracy: 1.0000\n",
            "Epoch 133/200\n",
            "1/1 [==============================] - 13s 13s/step - loss: 0.0946 - accuracy: 0.9555 - top-5-accuracy: 1.0000 - val_loss: 2.1299 - val_accuracy: 0.5636 - val_top-5-accuracy: 1.0000\n",
            "Epoch 134/200\n",
            "1/1 [==============================] - 13s 13s/step - loss: 0.1166 - accuracy: 0.9474 - top-5-accuracy: 1.0000 - val_loss: 2.1408 - val_accuracy: 0.6000 - val_top-5-accuracy: 1.0000\n",
            "Epoch 135/200\n",
            "1/1 [==============================] - 13s 13s/step - loss: 0.0830 - accuracy: 0.9777 - top-5-accuracy: 1.0000 - val_loss: 2.1393 - val_accuracy: 0.5818 - val_top-5-accuracy: 1.0000\n",
            "Epoch 136/200\n",
            "1/1 [==============================] - 13s 13s/step - loss: 0.0858 - accuracy: 0.9696 - top-5-accuracy: 1.0000 - val_loss: 2.1364 - val_accuracy: 0.5455 - val_top-5-accuracy: 1.0000\n",
            "Epoch 137/200\n",
            "1/1 [==============================] - 13s 13s/step - loss: 0.0984 - accuracy: 0.9595 - top-5-accuracy: 1.0000 - val_loss: 2.1065 - val_accuracy: 0.5636 - val_top-5-accuracy: 1.0000\n",
            "Epoch 138/200\n",
            "1/1 [==============================] - 13s 13s/step - loss: 0.1199 - accuracy: 0.9595 - top-5-accuracy: 1.0000 - val_loss: 2.0910 - val_accuracy: 0.5455 - val_top-5-accuracy: 1.0000\n",
            "Epoch 139/200\n",
            "1/1 [==============================] - 13s 13s/step - loss: 0.1243 - accuracy: 0.9555 - top-5-accuracy: 1.0000 - val_loss: 2.1268 - val_accuracy: 0.5455 - val_top-5-accuracy: 1.0000\n",
            "Epoch 140/200\n",
            "1/1 [==============================] - 13s 13s/step - loss: 0.0975 - accuracy: 0.9575 - top-5-accuracy: 1.0000 - val_loss: 2.1880 - val_accuracy: 0.5636 - val_top-5-accuracy: 1.0000\n",
            "Epoch 141/200\n",
            "1/1 [==============================] - 13s 13s/step - loss: 0.0832 - accuracy: 0.9656 - top-5-accuracy: 1.0000 - val_loss: 2.2618 - val_accuracy: 0.5273 - val_top-5-accuracy: 1.0000\n",
            "Epoch 142/200\n",
            "1/1 [==============================] - 13s 13s/step - loss: 0.1083 - accuracy: 0.9514 - top-5-accuracy: 1.0000 - val_loss: 2.2556 - val_accuracy: 0.5091 - val_top-5-accuracy: 1.0000\n",
            "Epoch 143/200\n",
            "1/1 [==============================] - 13s 13s/step - loss: 0.1132 - accuracy: 0.9534 - top-5-accuracy: 1.0000 - val_loss: 2.2229 - val_accuracy: 0.5273 - val_top-5-accuracy: 1.0000\n",
            "Epoch 144/200\n",
            "1/1 [==============================] - 13s 13s/step - loss: 0.0969 - accuracy: 0.9676 - top-5-accuracy: 1.0000 - val_loss: 2.1892 - val_accuracy: 0.5273 - val_top-5-accuracy: 1.0000\n",
            "Epoch 145/200\n",
            "1/1 [==============================] - 13s 13s/step - loss: 0.1101 - accuracy: 0.9636 - top-5-accuracy: 1.0000 - val_loss: 2.2692 - val_accuracy: 0.5273 - val_top-5-accuracy: 1.0000\n",
            "Epoch 146/200\n",
            "1/1 [==============================] - 13s 13s/step - loss: 0.1408 - accuracy: 0.9494 - top-5-accuracy: 1.0000 - val_loss: 2.2818 - val_accuracy: 0.5455 - val_top-5-accuracy: 1.0000\n",
            "Epoch 147/200\n",
            "1/1 [==============================] - 13s 13s/step - loss: 0.1024 - accuracy: 0.9595 - top-5-accuracy: 1.0000 - val_loss: 2.2494 - val_accuracy: 0.5455 - val_top-5-accuracy: 1.0000\n",
            "Epoch 148/200\n",
            "1/1 [==============================] - 13s 13s/step - loss: 0.0930 - accuracy: 0.9676 - top-5-accuracy: 1.0000 - val_loss: 2.2414 - val_accuracy: 0.5636 - val_top-5-accuracy: 1.0000\n",
            "Epoch 149/200\n",
            "1/1 [==============================] - 12s 12s/step - loss: 0.0969 - accuracy: 0.9636 - top-5-accuracy: 1.0000 - val_loss: 2.2978 - val_accuracy: 0.5273 - val_top-5-accuracy: 1.0000\n",
            "Epoch 150/200\n",
            "1/1 [==============================] - 13s 13s/step - loss: 0.1054 - accuracy: 0.9696 - top-5-accuracy: 1.0000 - val_loss: 2.2524 - val_accuracy: 0.5273 - val_top-5-accuracy: 1.0000\n",
            "Epoch 151/200\n",
            "1/1 [==============================] - 13s 13s/step - loss: 0.1083 - accuracy: 0.9555 - top-5-accuracy: 1.0000 - val_loss: 2.1721 - val_accuracy: 0.5455 - val_top-5-accuracy: 1.0000\n",
            "Epoch 152/200\n",
            "1/1 [==============================] - 13s 13s/step - loss: 0.0978 - accuracy: 0.9474 - top-5-accuracy: 1.0000 - val_loss: 2.0748 - val_accuracy: 0.5636 - val_top-5-accuracy: 1.0000\n",
            "Epoch 153/200\n",
            "1/1 [==============================] - 13s 13s/step - loss: 0.1234 - accuracy: 0.9494 - top-5-accuracy: 1.0000 - val_loss: 2.0475 - val_accuracy: 0.6000 - val_top-5-accuracy: 1.0000\n",
            "Epoch 154/200\n",
            "1/1 [==============================] - 12s 12s/step - loss: 0.1037 - accuracy: 0.9615 - top-5-accuracy: 1.0000 - val_loss: 2.0314 - val_accuracy: 0.5818 - val_top-5-accuracy: 1.0000\n",
            "Epoch 155/200\n",
            "1/1 [==============================] - 12s 12s/step - loss: 0.0896 - accuracy: 0.9656 - top-5-accuracy: 1.0000 - val_loss: 2.0526 - val_accuracy: 0.5818 - val_top-5-accuracy: 1.0000\n",
            "Epoch 156/200\n",
            "1/1 [==============================] - 13s 13s/step - loss: 0.0922 - accuracy: 0.9696 - top-5-accuracy: 1.0000 - val_loss: 2.0276 - val_accuracy: 0.5455 - val_top-5-accuracy: 1.0000\n",
            "Epoch 157/200\n",
            "1/1 [==============================] - 13s 13s/step - loss: 0.1058 - accuracy: 0.9636 - top-5-accuracy: 1.0000 - val_loss: 1.9249 - val_accuracy: 0.5455 - val_top-5-accuracy: 1.0000\n",
            "Epoch 158/200\n",
            "1/1 [==============================] - 13s 13s/step - loss: 0.1017 - accuracy: 0.9555 - top-5-accuracy: 1.0000 - val_loss: 1.8128 - val_accuracy: 0.5455 - val_top-5-accuracy: 1.0000\n",
            "Epoch 159/200\n",
            "1/1 [==============================] - 13s 13s/step - loss: 0.1089 - accuracy: 0.9595 - top-5-accuracy: 1.0000 - val_loss: 1.7784 - val_accuracy: 0.5455 - val_top-5-accuracy: 1.0000\n",
            "Epoch 160/200\n",
            "1/1 [==============================] - 13s 13s/step - loss: 0.1127 - accuracy: 0.9433 - top-5-accuracy: 1.0000 - val_loss: 1.7822 - val_accuracy: 0.5455 - val_top-5-accuracy: 1.0000\n",
            "Epoch 161/200\n",
            "1/1 [==============================] - 13s 13s/step - loss: 0.1046 - accuracy: 0.9534 - top-5-accuracy: 1.0000 - val_loss: 1.9280 - val_accuracy: 0.5091 - val_top-5-accuracy: 1.0000\n",
            "Epoch 162/200\n",
            "1/1 [==============================] - 12s 12s/step - loss: 0.1068 - accuracy: 0.9494 - top-5-accuracy: 1.0000 - val_loss: 2.1203 - val_accuracy: 0.4909 - val_top-5-accuracy: 1.0000\n",
            "Epoch 163/200\n",
            "1/1 [==============================] - 12s 12s/step - loss: 0.0870 - accuracy: 0.9555 - top-5-accuracy: 1.0000 - val_loss: 2.2379 - val_accuracy: 0.5273 - val_top-5-accuracy: 1.0000\n",
            "Epoch 164/200\n",
            "1/1 [==============================] - 12s 12s/step - loss: 0.1024 - accuracy: 0.9615 - top-5-accuracy: 1.0000 - val_loss: 2.1879 - val_accuracy: 0.5636 - val_top-5-accuracy: 1.0000\n",
            "Epoch 165/200\n",
            "1/1 [==============================] - 12s 12s/step - loss: 0.0949 - accuracy: 0.9595 - top-5-accuracy: 1.0000 - val_loss: 2.1693 - val_accuracy: 0.5818 - val_top-5-accuracy: 1.0000\n",
            "Epoch 166/200\n",
            "1/1 [==============================] - 12s 12s/step - loss: 0.0894 - accuracy: 0.9656 - top-5-accuracy: 1.0000 - val_loss: 2.1903 - val_accuracy: 0.5818 - val_top-5-accuracy: 1.0000\n",
            "Epoch 167/200\n",
            "1/1 [==============================] - 12s 12s/step - loss: 0.1223 - accuracy: 0.9494 - top-5-accuracy: 1.0000 - val_loss: 2.2401 - val_accuracy: 0.5636 - val_top-5-accuracy: 1.0000\n",
            "Epoch 168/200\n",
            "1/1 [==============================] - 13s 13s/step - loss: 0.0712 - accuracy: 0.9757 - top-5-accuracy: 1.0000 - val_loss: 2.3614 - val_accuracy: 0.5455 - val_top-5-accuracy: 1.0000\n",
            "Epoch 169/200\n",
            "1/1 [==============================] - 12s 12s/step - loss: 0.0646 - accuracy: 0.9777 - top-5-accuracy: 1.0000 - val_loss: 2.4603 - val_accuracy: 0.5455 - val_top-5-accuracy: 1.0000\n",
            "Epoch 170/200\n",
            "1/1 [==============================] - 12s 12s/step - loss: 0.1195 - accuracy: 0.9494 - top-5-accuracy: 1.0000 - val_loss: 2.4098 - val_accuracy: 0.5455 - val_top-5-accuracy: 1.0000\n",
            "Epoch 171/200\n",
            "1/1 [==============================] - 13s 13s/step - loss: 0.0894 - accuracy: 0.9737 - top-5-accuracy: 1.0000 - val_loss: 2.3099 - val_accuracy: 0.5818 - val_top-5-accuracy: 1.0000\n",
            "Epoch 172/200\n",
            "1/1 [==============================] - 13s 13s/step - loss: 0.0874 - accuracy: 0.9717 - top-5-accuracy: 1.0000 - val_loss: 2.2637 - val_accuracy: 0.5818 - val_top-5-accuracy: 1.0000\n",
            "Epoch 173/200\n",
            "1/1 [==============================] - 13s 13s/step - loss: 0.0902 - accuracy: 0.9676 - top-5-accuracy: 1.0000 - val_loss: 2.2960 - val_accuracy: 0.6000 - val_top-5-accuracy: 1.0000\n",
            "Epoch 174/200\n",
            "1/1 [==============================] - 13s 13s/step - loss: 0.1333 - accuracy: 0.9352 - top-5-accuracy: 1.0000 - val_loss: 2.3826 - val_accuracy: 0.5818 - val_top-5-accuracy: 1.0000\n",
            "Epoch 175/200\n",
            "1/1 [==============================] - 13s 13s/step - loss: 0.0915 - accuracy: 0.9676 - top-5-accuracy: 1.0000 - val_loss: 2.4872 - val_accuracy: 0.5273 - val_top-5-accuracy: 1.0000\n",
            "Epoch 176/200\n",
            "1/1 [==============================] - 13s 13s/step - loss: 0.1130 - accuracy: 0.9555 - top-5-accuracy: 1.0000 - val_loss: 2.4438 - val_accuracy: 0.5455 - val_top-5-accuracy: 1.0000\n",
            "Epoch 177/200\n",
            "1/1 [==============================] - 13s 13s/step - loss: 0.1059 - accuracy: 0.9615 - top-5-accuracy: 1.0000 - val_loss: 2.4016 - val_accuracy: 0.5636 - val_top-5-accuracy: 1.0000\n",
            "Epoch 178/200\n",
            "1/1 [==============================] - 13s 13s/step - loss: 0.0766 - accuracy: 0.9737 - top-5-accuracy: 1.0000 - val_loss: 2.3367 - val_accuracy: 0.5636 - val_top-5-accuracy: 1.0000\n",
            "Epoch 179/200\n",
            "1/1 [==============================] - 13s 13s/step - loss: 0.1021 - accuracy: 0.9656 - top-5-accuracy: 1.0000 - val_loss: 2.1405 - val_accuracy: 0.5818 - val_top-5-accuracy: 1.0000\n",
            "Epoch 180/200\n",
            "1/1 [==============================] - 13s 13s/step - loss: 0.0784 - accuracy: 0.9676 - top-5-accuracy: 1.0000 - val_loss: 2.0311 - val_accuracy: 0.5818 - val_top-5-accuracy: 1.0000\n",
            "Epoch 181/200\n",
            "1/1 [==============================] - 13s 13s/step - loss: 0.0894 - accuracy: 0.9676 - top-5-accuracy: 1.0000 - val_loss: 1.9661 - val_accuracy: 0.5636 - val_top-5-accuracy: 1.0000\n",
            "Epoch 182/200\n",
            "1/1 [==============================] - 13s 13s/step - loss: 0.1133 - accuracy: 0.9534 - top-5-accuracy: 1.0000 - val_loss: 2.0816 - val_accuracy: 0.5636 - val_top-5-accuracy: 1.0000\n",
            "Epoch 183/200\n",
            "1/1 [==============================] - 13s 13s/step - loss: 0.1045 - accuracy: 0.9615 - top-5-accuracy: 1.0000 - val_loss: 2.1270 - val_accuracy: 0.5636 - val_top-5-accuracy: 1.0000\n",
            "Epoch 184/200\n",
            "1/1 [==============================] - 13s 13s/step - loss: 0.1044 - accuracy: 0.9656 - top-5-accuracy: 1.0000 - val_loss: 2.2314 - val_accuracy: 0.5636 - val_top-5-accuracy: 1.0000\n",
            "Epoch 185/200\n",
            "1/1 [==============================] - 13s 13s/step - loss: 0.1298 - accuracy: 0.9494 - top-5-accuracy: 1.0000 - val_loss: 2.2752 - val_accuracy: 0.5636 - val_top-5-accuracy: 1.0000\n",
            "Epoch 186/200\n",
            "1/1 [==============================] - 13s 13s/step - loss: 0.1020 - accuracy: 0.9676 - top-5-accuracy: 1.0000 - val_loss: 2.2313 - val_accuracy: 0.5818 - val_top-5-accuracy: 1.0000\n",
            "Epoch 187/200\n",
            "1/1 [==============================] - 13s 13s/step - loss: 0.1109 - accuracy: 0.9514 - top-5-accuracy: 1.0000 - val_loss: 2.1002 - val_accuracy: 0.6182 - val_top-5-accuracy: 1.0000\n",
            "Epoch 188/200\n",
            "1/1 [==============================] - 12s 12s/step - loss: 0.0697 - accuracy: 0.9717 - top-5-accuracy: 1.0000 - val_loss: 2.0481 - val_accuracy: 0.6000 - val_top-5-accuracy: 1.0000\n",
            "Epoch 189/200\n",
            "1/1 [==============================] - 12s 12s/step - loss: 0.0992 - accuracy: 0.9575 - top-5-accuracy: 1.0000 - val_loss: 2.0808 - val_accuracy: 0.6000 - val_top-5-accuracy: 1.0000\n",
            "Epoch 190/200\n",
            "1/1 [==============================] - 13s 13s/step - loss: 0.0893 - accuracy: 0.9696 - top-5-accuracy: 1.0000 - val_loss: 2.1521 - val_accuracy: 0.6182 - val_top-5-accuracy: 1.0000\n",
            "Epoch 191/200\n",
            "1/1 [==============================] - 12s 12s/step - loss: 0.1109 - accuracy: 0.9636 - top-5-accuracy: 1.0000 - val_loss: 2.2879 - val_accuracy: 0.5636 - val_top-5-accuracy: 1.0000\n",
            "Epoch 192/200\n",
            "1/1 [==============================] - 13s 13s/step - loss: 0.0886 - accuracy: 0.9615 - top-5-accuracy: 1.0000 - val_loss: 2.3486 - val_accuracy: 0.5818 - val_top-5-accuracy: 1.0000\n",
            "Epoch 193/200\n",
            "1/1 [==============================] - 13s 13s/step - loss: 0.0896 - accuracy: 0.9656 - top-5-accuracy: 1.0000 - val_loss: 2.3946 - val_accuracy: 0.5636 - val_top-5-accuracy: 1.0000\n",
            "Epoch 194/200\n",
            "1/1 [==============================] - 13s 13s/step - loss: 0.1115 - accuracy: 0.9615 - top-5-accuracy: 1.0000 - val_loss: 2.3406 - val_accuracy: 0.5818 - val_top-5-accuracy: 1.0000\n",
            "Epoch 195/200\n",
            "1/1 [==============================] - 13s 13s/step - loss: 0.1027 - accuracy: 0.9575 - top-5-accuracy: 1.0000 - val_loss: 2.2152 - val_accuracy: 0.5455 - val_top-5-accuracy: 1.0000\n",
            "Epoch 196/200\n",
            "1/1 [==============================] - 12s 12s/step - loss: 0.0896 - accuracy: 0.9656 - top-5-accuracy: 1.0000 - val_loss: 2.1372 - val_accuracy: 0.5455 - val_top-5-accuracy: 1.0000\n",
            "Epoch 197/200\n",
            "1/1 [==============================] - 13s 13s/step - loss: 0.1134 - accuracy: 0.9555 - top-5-accuracy: 1.0000 - val_loss: 2.1196 - val_accuracy: 0.5273 - val_top-5-accuracy: 1.0000\n",
            "Epoch 198/200\n",
            "1/1 [==============================] - 12s 12s/step - loss: 0.0849 - accuracy: 0.9717 - top-5-accuracy: 1.0000 - val_loss: 2.2409 - val_accuracy: 0.5273 - val_top-5-accuracy: 1.0000\n",
            "Epoch 199/200\n",
            "1/1 [==============================] - 12s 12s/step - loss: 0.0713 - accuracy: 0.9757 - top-5-accuracy: 1.0000 - val_loss: 2.3893 - val_accuracy: 0.5455 - val_top-5-accuracy: 1.0000\n",
            "Epoch 200/200\n",
            "1/1 [==============================] - 13s 13s/step - loss: 0.0789 - accuracy: 0.9757 - top-5-accuracy: 1.0000 - val_loss: 2.4874 - val_accuracy: 0.5636 - val_top-5-accuracy: 1.0000\n"
          ]
        }
      ]
    },
    {
      "cell_type": "code",
      "source": [
        "\n",
        "_, accuracy, top_5_accuracy = model.evaluate(x_test, y_test)\n",
        "print(f\"Test accuracy: {round(accuracy * 100, 2)}%\")\n",
        "print(f\"Test top 5 accuracy: {round(top_5_accuracy * 100, 2)}%\")"
      ],
      "metadata": {
        "colab": {
          "base_uri": "https://localhost:8080/"
        },
        "id": "Llv4I-6JldtA",
        "outputId": "04bccb39-9d29-479c-8a2c-e5fab9117212"
      },
      "id": "Llv4I-6JldtA",
      "execution_count": 75,
      "outputs": [
        {
          "output_type": "stream",
          "name": "stdout",
          "text": [
            "9/9 [==============================] - 3s 290ms/step - loss: 1.3193 - accuracy: 0.7196 - top-5-accuracy: 1.0000\n",
            "Test accuracy: 71.96%\n",
            "Test top 5 accuracy: 100.0%\n"
          ]
        }
      ]
    },
    {
      "cell_type": "code",
      "execution_count": 44,
      "id": "23a0aca1-0ceb-4163-b25a-cc0b328ffd8e",
      "metadata": {
        "id": "23a0aca1-0ceb-4163-b25a-cc0b328ffd8e"
      },
      "outputs": [],
      "source": [
        ""
      ]
    }
  ],
  "metadata": {
    "kernelspec": {
      "display_name": "Python 3 (ipykernel)",
      "language": "python",
      "name": "python3"
    },
    "language_info": {
      "codemirror_mode": {
        "name": "ipython",
        "version": 3
      },
      "file_extension": ".py",
      "mimetype": "text/x-python",
      "name": "python",
      "nbconvert_exporter": "python",
      "pygments_lexer": "ipython3",
      "version": "3.8.11"
    },
    "colab": {
      "name": "3 Transformer.ipynb",
      "provenance": [],
      "collapsed_sections": [],
      "include_colab_link": true
    },
    "accelerator": "TPU"
  },
  "nbformat": 4,
  "nbformat_minor": 5
}